{
  "nbformat": 4,
  "nbformat_minor": 0,
  "metadata": {
    "colab": {
      "name": "Untitled1.ipynb",
      "provenance": [],
      "collapsed_sections": []
    },
    "kernelspec": {
      "name": "python3",
      "display_name": "Python 3"
    },
    "language_info": {
      "name": "python"
    }
  },
  "cells": [
    {
      "cell_type": "code",
      "execution_count": null,
      "metadata": {
        "id": "gAQl5ZiITJ5W"
      },
      "outputs": [],
      "source": [
        ""
      ]
    },
    {
      "cell_type": "code",
      "execution_count": null,
      "metadata": {
        "id": "FHpHmNyFfb70",
        "colab": {
          "base_uri": "https://localhost:8080/"
        },
        "outputId": "9683b201-667b-42a6-c779-f91f3c19089d"
      },
      "outputs": [
        {
          "output_type": "stream",
          "name": "stdout",
          "text": [
            "enter any number : 123456\n",
            "654321\n"
          ]
        }
      ],
      "source": [
        "#ASSIGNMENT :::::::::::::::::::::::::::::::::::::::::::\n",
        "\n",
        "#Q1) Write a program to reverse an integer in Python.\n",
        "no=int(input(\"enter any number : \"))\n",
        "print(str(no)[-1::-1])"
      ]
    },
    {
      "cell_type": "code",
      "source": [
        "#Q2) Write a program in Python to check whether an integer is\n",
        "#Armstrong number or not.\n",
        "num=int(input(\"Enter any number : \"))\n",
        "sum=0\n",
        "temp=num\n",
        "while temp!=0:\n",
        "  digit=temp%10\n",
        "  sum+=digit**3\n",
        "  temp //=10\n",
        "if num==sum:\n",
        "  print(num,\"Its an armstrong number : \")\n",
        "else :\n",
        "  print(num,\"Its not an armstrong number : \")"
      ],
      "metadata": {
        "colab": {
          "base_uri": "https://localhost:8080/"
        },
        "id": "xUMudBtT39fq",
        "outputId": "a021277a-76fb-4980-e71b-9f8344338e8c"
      },
      "execution_count": null,
      "outputs": [
        {
          "output_type": "stream",
          "name": "stdout",
          "text": [
            "Enter any number : 153\n",
            "153 Its an armstrong number : \n"
          ]
        }
      ]
    },
    {
      "cell_type": "code",
      "source": [
        "#Q3) Write a program in Python to check given number is prime\n",
        "#or not.\n",
        "i,temp=0,0\n",
        "n=int(input(\"Enter any number : \"))\n",
        "for i in range(2,n//2):\n",
        "  if n%i==0:\n",
        "    temp=1\n",
        "    break\n",
        "if temp==1:\n",
        "  print(\"its not a prime number\")\n",
        "else:\n",
        "  print(\"Its a prime number\")"
      ],
      "metadata": {
        "colab": {
          "base_uri": "https://localhost:8080/"
        },
        "id": "P_5Uw9237Llm",
        "outputId": "ab033b11-b7fa-434a-8e80-b1da81661438"
      },
      "execution_count": null,
      "outputs": [
        {
          "output_type": "stream",
          "name": "stdout",
          "text": [
            "Enter any number : 7\n",
            "Its a prime number\n"
          ]
        }
      ]
    },
    {
      "cell_type": "code",
      "source": [
        "#Q4) Write a program in Python to print the Fibonacci series\n",
        "#using iterative method.\n",
        "first,second=0,1\n",
        "n = int(input(\"please give a number for fibonacci series : \"))\n",
        "print(\"fibonacci series are : \")\n",
        "for i in range(0,n):\n",
        "    if i<=1:\n",
        "        result=i\n",
        "    else:\n",
        "      result = first + second;\n",
        "      first = second;\n",
        "      second = result;\n",
        "    print(result)"
      ],
      "metadata": {
        "colab": {
          "base_uri": "https://localhost:8080/"
        },
        "id": "9oegM1if90HC",
        "outputId": "7391eb68-bfa4-4306-f972-4b4ca226cb34"
      },
      "execution_count": null,
      "outputs": [
        {
          "output_type": "stream",
          "name": "stdout",
          "text": [
            "please give a number for fibonacci series : 5\n",
            "fibonacci series are : \n",
            "0\n",
            "1\n",
            "1\n",
            "2\n",
            "3\n"
          ]
        }
      ]
    },
    {
      "cell_type": "code",
      "source": [
        "#Q5) Write a program in Python to check whether a number is\n",
        "#palindrome or not using iterative method.\n",
        "n = int(input(\"please give a number : \"))\n",
        "reverse,temp = 0,n\n",
        "while temp!=0:\n",
        "    reverse = reverse*10 + temp%10;        \n",
        "    temp=temp//10;\n",
        "if reverse==n:\n",
        "    print(\"number is palindrom\")\n",
        "else:\n",
        "    print(\"number is not palindrom\")\n"
      ],
      "metadata": {
        "colab": {
          "base_uri": "https://localhost:8080/"
        },
        "id": "Ml6Qxe0l-YJL",
        "outputId": "f18f61f4-962d-466c-ee6e-61d17db9be5b"
      },
      "execution_count": null,
      "outputs": [
        {
          "output_type": "stream",
          "name": "stdout",
          "text": [
            "please give a number : 5885\n",
            "number is palindrom\n"
          ]
        }
      ]
    },
    {
      "cell_type": "code",
      "source": [
        "#Q6) Write a program in Python to find greatest among three\n",
        "#integers.\n",
        "a=int(input(\"Enter any number : \"))\n",
        "b=int(input(\"Enter any number : \"))\n",
        "c=int(input(\"Enter any number : \"))\n",
        "if a > b and a > c:\n",
        "  print(\"A is greatest : \")\n",
        "elif b > a and b > c:\n",
        "    print(\"B is greatest : \")\n",
        "else:\n",
        "      print(\"C is greatest : \")"
      ],
      "metadata": {
        "colab": {
          "base_uri": "https://localhost:8080/"
        },
        "id": "jchUQOlY_pea",
        "outputId": "72a689e7-14b9-45ed-cfe6-41f05ff0f749"
      },
      "execution_count": null,
      "outputs": [
        {
          "output_type": "stream",
          "name": "stdout",
          "text": [
            "Enter any number : 2\n",
            "Enter any number : 4\n",
            "Enter any number : 5\n",
            "C is greatest : \n"
          ]
        }
      ]
    },
    {
      "cell_type": "code",
      "source": [
        "#Q7) Write a program in Python to check if a number is binary?\n",
        "n=int(input(\"enter any number:\"))\n",
        "while n>0:\n",
        "   ch=n%10\n",
        "   if ch!=0 and ch!=1:\n",
        "     print(\"not a binary\")\n",
        "     break\n",
        "   n=n//10\n",
        "   if n==0:\n",
        "     print(\"binary\")"
      ],
      "metadata": {
        "colab": {
          "base_uri": "https://localhost:8080/"
        },
        "id": "DyCvILpBCyxH",
        "outputId": "14b7bb8a-4806-48e3-cd20-91e5e9f79544"
      },
      "execution_count": null,
      "outputs": [
        {
          "output_type": "stream",
          "name": "stdout",
          "text": [
            "enter any number:11010\n",
            "binary\n"
          ]
        }
      ]
    },
    {
      "cell_type": "code",
      "source": [
        "#Q8) Write a program in Python to find sum of digits.\n",
        "num=int(input(\"enter any number : \"))\n",
        "sum=0\n",
        "while num>0:\n",
        "  r=num%10\n",
        "  sum=sum+r\n",
        "  num=num//10\n",
        "print(\"the sum is : \",sum) "
      ],
      "metadata": {
        "colab": {
          "base_uri": "https://localhost:8080/"
        },
        "id": "wfkCJfkTEFVt",
        "outputId": "cff06e82-793c-4903-e3e4-abb64ddb63fc"
      },
      "execution_count": null,
      "outputs": [
        {
          "output_type": "stream",
          "name": "stdout",
          "text": [
            "enter any number : 12345\n",
            "the sum is :  15\n"
          ]
        }
      ]
    },
    {
      "cell_type": "code",
      "source": [
        "#Q9) Write a program in Python to swap two numbers without\n",
        "#using third variable?\n",
        "n=int(input(\"enter any number : \"))\n",
        "num=int(input(\"enter any number : \"))\n",
        "n,num=num,n\n",
        "print(\"a is \",n,\"b is \",num)"
      ],
      "metadata": {
        "colab": {
          "base_uri": "https://localhost:8080/"
        },
        "id": "MTA1rQMJFnM8",
        "outputId": "0a81a3ce-ba4e-49ec-a138-8b9054ee6e05"
      },
      "execution_count": null,
      "outputs": [
        {
          "output_type": "stream",
          "name": "stdout",
          "text": [
            "enter any number : 1\n",
            "enter any number : 2\n",
            "a is  2 b is  1\n"
          ]
        }
      ]
    },
    {
      "cell_type": "code",
      "source": [
        "#Q10) Write a program in Python to swap two numbers using\n",
        "#third variable?\n",
        "a=int(input(\"enter any number : \"))\n",
        "b=int(input(\"enter any number : \"))\n",
        "temp=a\n",
        "a=b\n",
        "b=temp\n",
        "print(\"a is \",a)  \n",
        "print(\"b is \",b)"
      ],
      "metadata": {
        "colab": {
          "base_uri": "https://localhost:8080/"
        },
        "id": "BUSDVIAtGL7z",
        "outputId": "f18eb812-9e19-484b-8dca-ddd60f6ee805"
      },
      "execution_count": null,
      "outputs": [
        {
          "output_type": "stream",
          "name": "stdout",
          "text": [
            "enter any number : 1\n",
            "enter any number : 5\n",
            "a is  5\n",
            "b is  1\n"
          ]
        }
      ]
    },
    {
      "cell_type": "code",
      "source": [
        "#Q11) Python Program to find the Average of numbers.\n",
        "size=int(input(\"enter any number : \"))\n",
        "a=[ ]\n",
        "for i in range(0,size):\n",
        "  a.append(int(input(\"enter any numbers : \")))\n",
        "avg=sum(a)/size\n",
        "print(avg)"
      ],
      "metadata": {
        "colab": {
          "base_uri": "https://localhost:8080/"
        },
        "id": "Uqiti03-HTIz",
        "outputId": "0e5b03c6-998e-4b6c-eae9-32433ee7621d"
      },
      "execution_count": null,
      "outputs": [
        {
          "output_type": "stream",
          "name": "stdout",
          "text": [
            "enter any number : 5\n",
            "enter any numbers : 12\n",
            "enter any numbers : 23\n",
            "enter any numbers : 53\n",
            "enter any numbers : 54\n",
            "enter any numbers : 65\n",
            "41.4\n"
          ]
        }
      ]
    },
    {
      "cell_type": "code",
      "source": [
        "#Q12) Python Program to calculate factorial using iterative\n",
        "#method.\n",
        "n=int(input(\"enter any number : \"))\n",
        "fact=1\n",
        "if n<0:\n",
        "  print(\"not exist:\")\n",
        "elif n==0:\n",
        "  print(\"factorial is 1:\")\n",
        "else:\n",
        "  for i in range(1,n+1):\n",
        "    fact=fact*i\n",
        "    print(fact)"
      ],
      "metadata": {
        "colab": {
          "base_uri": "https://localhost:8080/"
        },
        "id": "OQvEhGp6JCQq",
        "outputId": "d37dfa04-bb9d-4d13-85fb-4c42410b473f"
      },
      "execution_count": null,
      "outputs": [
        {
          "output_type": "stream",
          "name": "stdout",
          "text": [
            "enter any number : 7\n",
            "1\n",
            "2\n",
            "6\n",
            "24\n",
            "120\n",
            "720\n",
            "5040\n"
          ]
        }
      ]
    },
    {
      "cell_type": "code",
      "source": [
        "#Q14) Python Program to check a given number is even or odd.\n",
        "n=int(input(\"enter any number : \"))\n",
        "if n%2==0:\n",
        "  print(\"its a even number:\")\n",
        "else:\n",
        "  print(\"its a odd number:\")"
      ],
      "metadata": {
        "colab": {
          "base_uri": "https://localhost:8080/"
        },
        "id": "9-bR7ka6Kkle",
        "outputId": "e4cdb9ca-955b-421f-a25a-cc12f4e69c7b"
      },
      "execution_count": null,
      "outputs": [
        {
          "output_type": "stream",
          "name": "stdout",
          "text": [
            "enter any number : 50\n",
            "its a even number:\n"
          ]
        }
      ]
    },
    {
      "cell_type": "code",
      "source": [
        "#Q15) Python program to print first n Prime Number.\n",
        "numr=int(input(\"Enter range:\"))\n",
        "print(\"Prime numbers:\")\n",
        "for n in range(1,numr):\n",
        "    for i in range(2,n):\n",
        "        if(n%i==0):\n",
        "            break\n",
        "    else:\n",
        "        print(n)       "
      ],
      "metadata": {
        "colab": {
          "base_uri": "https://localhost:8080/"
        },
        "id": "w8hf38KKLMK9",
        "outputId": "2982ede8-703f-481a-cd65-f16575b99ff7"
      },
      "execution_count": null,
      "outputs": [
        {
          "output_type": "stream",
          "name": "stdout",
          "text": [
            "Enter range:20\n",
            "Prime numbers:\n",
            "1\n",
            "2\n",
            "3\n",
            "5\n",
            "7\n",
            "11\n",
            "13\n",
            "17\n",
            "19\n"
          ]
        }
      ]
    },
    {
      "cell_type": "code",
      "source": [
        "#Q17) Python Program to find Smallest number among three.\n",
        "a = int(input(\"Enter the value for a :\"))\n",
        "b = int(input(\"Enter the value for b :\"))\n",
        "c = int(input(\"Enter the value for c :\"))\n",
        "if a<=b and a<=c:\n",
        "\tprint(\"a is smallest\")\n",
        "elif b<=a and b<=c:\n",
        "\tprint(\"b is smallest\")\n",
        "elif c<=a and c<=b:\n",
        "  print(\"c is smallest\")"
      ],
      "metadata": {
        "colab": {
          "base_uri": "https://localhost:8080/"
        },
        "id": "WDqN2ahDLcOU",
        "outputId": "3157efb8-bc77-4efd-bc11-42e034984069"
      },
      "execution_count": null,
      "outputs": [
        {
          "output_type": "stream",
          "name": "stdout",
          "text": [
            "Enter the value for a :5\n",
            "Enter the value for b :6\n",
            "Enter the value for c :2\n",
            "c is smallest\n"
          ]
        }
      ]
    },
    {
      "cell_type": "code",
      "source": [
        "#Q18) Python program to calculate the power using the POW\n",
        "#method.\n",
        "base=int(input(\"enter any number : \"))\n",
        "exp=int(input(\"eneter any number : \"))\n",
        "c=pow(base,exp)\n",
        "print(c)"
      ],
      "metadata": {
        "colab": {
          "base_uri": "https://localhost:8080/"
        },
        "id": "iZwVHQGSLzut",
        "outputId": "d3e82e9d-5a3e-47fb-c9da-b6455456247f"
      },
      "execution_count": null,
      "outputs": [
        {
          "output_type": "stream",
          "name": "stdout",
          "text": [
            "enter any number : 2\n",
            "eneter any number : 3\n",
            "8\n"
          ]
        }
      ]
    },
    {
      "cell_type": "code",
      "source": [
        "#Q19) Python Program to calculate the square of a given number.\n",
        "n=int(input(\"enter any number : \"))\n",
        "b=n**2\n",
        "print(b)"
      ],
      "metadata": {
        "colab": {
          "base_uri": "https://localhost:8080/"
        },
        "id": "ESq1gNtZNQc7",
        "outputId": "f74b6480-0df6-4bf5-ff46-7ca940f5a299"
      },
      "execution_count": null,
      "outputs": [
        {
          "output_type": "stream",
          "name": "stdout",
          "text": [
            "enter any number : 5\n",
            "25\n"
          ]
        }
      ]
    },
    {
      "cell_type": "code",
      "source": [
        "#Q20) Python Program to calculate the cube of a given number\n",
        "n=int(input(\"enter any number : \"))\n",
        "b=n**3\n",
        "print(b)"
      ],
      "metadata": {
        "colab": {
          "base_uri": "https://localhost:8080/"
        },
        "id": "JvfKwS8aOAPC",
        "outputId": "58eb7ddc-0774-4214-ea62-e5ba22c4463b"
      },
      "execution_count": null,
      "outputs": [
        {
          "output_type": "stream",
          "name": "stdout",
          "text": [
            "enter any number : 5\n",
            "125\n"
          ]
        }
      ]
    },
    {
      "cell_type": "code",
      "source": [
        "#Q21) Python Program to calculate the square root of a given\n",
        "#number.\n",
        "import math\n",
        "n=int(input(\"enter any number : \"))\n",
        "a=math.sqrt(n)\n",
        "print(a)"
      ],
      "metadata": {
        "colab": {
          "base_uri": "https://localhost:8080/"
        },
        "id": "FFCUiIgmOSm5",
        "outputId": "ccc357e8-396f-4cb3-e452-80a6b96fb5c0"
      },
      "execution_count": null,
      "outputs": [
        {
          "output_type": "stream",
          "name": "stdout",
          "text": [
            "enter any number : 8\n",
            "2.8284271247461903\n"
          ]
        }
      ]
    },
    {
      "cell_type": "code",
      "source": [
        "#Q24) Python Program to check the given year is a leap year or\n",
        "#not.\n",
        "year=int(input(\"enter any number : \"))\n",
        "if year%4==0:\n",
        "  print(\"its a leap year : \")\n",
        "else:\n",
        "  print(\"its not a leap year : \")"
      ],
      "metadata": {
        "colab": {
          "base_uri": "https://localhost:8080/"
        },
        "id": "TH2uHMgUOstx",
        "outputId": "bff48890-319c-4c62-fdb2-8e36b0eef1e2"
      },
      "execution_count": 1,
      "outputs": [
        {
          "output_type": "stream",
          "name": "stdout",
          "text": [
            "enter any number : 200\n",
            "its a leap year : \n"
          ]
        }
      ]
    },
    {
      "cell_type": "code",
      "source": [
        ""
      ],
      "metadata": {
        "id": "ESD5OxJRTMRD"
      },
      "execution_count": null,
      "outputs": []
    },
    {
      "cell_type": "code",
      "source": [
        "#Q22) Python Program to Convert Decimal Number into Binary.\n",
        "decimal=int(input(\"enter any number:\"))\n",
        "print(\"the binary form is : \",bin(decimal))"
      ],
      "metadata": {
        "id": "WhgNb32FFbMX",
        "colab": {
          "base_uri": "https://localhost:8080/"
        },
        "outputId": "a1b704a4-7660-4442-8a9e-934db1337c7f"
      },
      "execution_count": null,
      "outputs": [
        {
          "output_type": "stream",
          "name": "stdout",
          "text": [
            "enter any number:10\n",
            "the binary form is :  0b1010\n"
          ]
        }
      ]
    },
    {
      "cell_type": "code",
      "source": [
        "#Q23) Python Program to convert Decimal number to Octal\n",
        "#number.\n",
        "decimal=int(input(\"enter any number:\"))\n",
        "print(\"the binary form is : \",oct(decimal))"
      ],
      "metadata": {
        "colab": {
          "base_uri": "https://localhost:8080/"
        },
        "id": "3p6fbypCP6eT",
        "outputId": "ba1b4772-641a-48f0-f226-056ded579bd6"
      },
      "execution_count": null,
      "outputs": [
        {
          "output_type": "stream",
          "name": "stdout",
          "text": [
            "enter any number:10\n",
            "the binary form is :  0o12\n"
          ]
        }
      ]
    },
    {
      "cell_type": "code",
      "source": [
        "#Q25) Python Program to convert Celsius to Fahrenheit.\n",
        "celsius = float(input(\"Enter temperature in celsius: \"))\n",
        "fahrenheit = (celsius * 9/5) + 32\n",
        "print('Fahrenheit is:',(fahrenheit))"
      ],
      "metadata": {
        "colab": {
          "base_uri": "https://localhost:8080/"
        },
        "id": "pnAoNoxpQPd4",
        "outputId": "c12270c4-62bf-4903-e2d5-ac48dd1963a4"
      },
      "execution_count": null,
      "outputs": [
        {
          "output_type": "stream",
          "name": "stdout",
          "text": [
            "Enter temperature in celsius: 25\n",
            "Fahrenheit is: 77.0\n"
          ]
        }
      ]
    },
    {
      "cell_type": "code",
      "source": [
        "#Q26) Python Program to convert Fahrenheit to Celsius.\n",
        "fahrenheit = float(input(\"Enter temperature in fahrenheit: \"))\n",
        "celsius = (fahrenheit - 32) * 5/9\n",
        "print('Celsius is:',(celsius))"
      ],
      "metadata": {
        "colab": {
          "base_uri": "https://localhost:8080/"
        },
        "id": "3wJOK4QcQxEg",
        "outputId": "ef3c1f9f-77b3-484b-f7f7-23cd5b056b4f"
      },
      "execution_count": null,
      "outputs": [
        {
          "output_type": "stream",
          "name": "stdout",
          "text": [
            "Enter temperature in fahrenheit: 25\n",
            "Celsius is: -3.888888888888889\n"
          ]
        }
      ]
    }
  ]
}